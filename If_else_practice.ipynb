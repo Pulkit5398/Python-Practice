{
 "cells": [
  {
   "cell_type": "code",
   "execution_count": null,
   "metadata": {},
   "outputs": [],
   "source": [
    "y = input(\"type the string\")\n",
    "if y== \"dog\":\n",
    " print(\"Dog\")\n",
    "elif y== \"cat\":\n",
    " print(\"Cat\")\n",
    "elif \"dog\" in y and \"cat\" in y:\n",
    " print(\"Dog\")\n",
    "else:\n",
    " print(\"None\")\n",
    "\n"
   ]
  },
  {
   "cell_type": "code",
   "execution_count": null,
   "metadata": {
    "collapsed": true
   },
   "outputs": [],
   "source": [
    "y = input(\"type the string\")\n",
    "if y== \"dog\":\n",
    " print (\"yes\")\n",
    "else:\n",
    " print (\"no\")"
   ]
  }
 ],
 "metadata": {
  "kernelspec": {
   "display_name": "Python 3",
   "language": "python",
   "name": "python3"
  },
  "language_info": {
   "codemirror_mode": {
    "name": "ipython",
    "version": 3
   },
   "file_extension": ".py",
   "mimetype": "text/x-python",
   "name": "python",
   "nbconvert_exporter": "python",
   "pygments_lexer": "ipython3",
   "version": "3.6.1"
  }
 },
 "nbformat": 4,
 "nbformat_minor": 2
}
